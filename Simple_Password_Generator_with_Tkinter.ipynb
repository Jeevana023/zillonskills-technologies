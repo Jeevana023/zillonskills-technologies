{
  "cells": [
    {
      "cell_type": "markdown",
      "metadata": {
        "id": "view-in-github",
        "colab_type": "text"
      },
      "source": [
        "<a href=\"https://colab.research.google.com/github/Jeevana023/zillonskills-technologies/blob/main/Simple_Password_Generator_with_Tkinter.ipynb\" target=\"_parent\"><img src=\"https://colab.research.google.com/assets/colab-badge.svg\" alt=\"Open In Colab\"/></a>"
      ]
    },
    {
      "cell_type": "code",
      "source": [
        "import ipywidgets as widgets\n",
        "from IPython.display import display\n",
        "import random\n",
        "import string\n",
        "\n",
        "def generate_password(length):\n",
        "    \"\"\"Generates a random password with letters, numbers, and special characters.\"\"\"\n",
        "    if length <= 0:\n",
        "        return \"\"\n",
        "\n",
        "    # Define character sets\n",
        "    lowercase_letters = string.ascii_lowercase\n",
        "    uppercase_letters = string.ascii_uppercase\n",
        "    digits = string.digits\n",
        "    special_characters = string.punctuation\n",
        "\n",
        "    # Combine all character types\n",
        "    all_characters = lowercase_letters + uppercase_letters + digits + special_characters\n",
        "\n",
        "    # Ensure at least one of each type if length allows\n",
        "    password = []\n",
        "    if length >= 4: # Minimum length to guarantee all types\n",
        "        password.append(random.choice(lowercase_letters))\n",
        "        password.append(random.choice(uppercase_letters))\n",
        "        password.append(random.choice(digits))\n",
        "        password.append(random.choice(special_characters))\n",
        "        # Fill the rest of the password with random choices from all characters\n",
        "        for _ in range(length - 4):\n",
        "            password.append(random.choice(all_characters))\n",
        "    else: # For shorter passwords, just pick from all characters\n",
        "        for _ in range(length):\n",
        "            password.append(random.choice(all_characters))\n",
        "\n",
        "    # Shuffle the list to ensure randomness\n",
        "    random.shuffle(password)\n",
        "    return \"\".join(password)\n",
        "\n",
        "def create_gui():\n",
        "    \"\"\"Creates and runs the ipywidgets GUI for the password generator.\"\"\"\n",
        "\n",
        "    # Password Length Slider\n",
        "    length_slider = widgets.IntSlider(\n",
        "        value=12,\n",
        "        min=6,\n",
        "        max=64,\n",
        "        step=1,\n",
        "        description='Password Length:',\n",
        "        continuous_update=False\n",
        "    )\n",
        "\n",
        "    # Generated Password Display\n",
        "    password_text = widgets.Text(\n",
        "        value='',\n",
        "        placeholder='Generated Password',\n",
        "        description='Password:',\n",
        "        disabled=True\n",
        "    )\n",
        "\n",
        "    # Generate Button\n",
        "    generate_button = widgets.Button(\n",
        "        description=\"Generate Password\",\n",
        "        button_style='success', # 'success', 'info', 'warning', 'danger' or ''\n",
        "        tooltip='Click to generate a new password',\n",
        "        icon='check'\n",
        "    )\n",
        "\n",
        "    # Output widget for messages\n",
        "    output = widgets.Output()\n",
        "\n",
        "    def on_generate_button_clicked(b):\n",
        "        with output:\n",
        "            output.clear_output()\n",
        "            new_password = generate_password(length_slider.value)\n",
        "            password_text.value = new_password\n",
        "            print(\"Password generated!\")\n",
        "\n",
        "\n",
        "    generate_button.on_click(on_generate_button_clicked)\n",
        "\n",
        "\n",
        "    # Display the widgets\n",
        "    display(length_slider, password_text, generate_button, output)\n",
        "\n",
        "    # Initial password generation\n",
        "    with output:\n",
        "        new_password = generate_password(length_slider.value)\n",
        "        password_text.value = new_password\n",
        "\n",
        "\n",
        "if __name__ == \"__main__\":\n",
        "    create_gui()"
      ],
      "outputs": [
        {
          "output_type": "display_data",
          "data": {
            "text/plain": [
              "IntSlider(value=12, continuous_update=False, description='Password Length:', max=64, min=6)"
            ],
            "application/vnd.jupyter.widget-view+json": {
              "version_major": 2,
              "version_minor": 0,
              "model_id": "f96e48c344434d999aabbe8f52b82b3f"
            }
          },
          "metadata": {}
        },
        {
          "output_type": "display_data",
          "data": {
            "text/plain": [
              "Text(value='', description='Password:', disabled=True, placeholder='Generated Password')"
            ],
            "application/vnd.jupyter.widget-view+json": {
              "version_major": 2,
              "version_minor": 0,
              "model_id": "ac5de5898a8844018b7295e94cce34e8"
            }
          },
          "metadata": {}
        },
        {
          "output_type": "display_data",
          "data": {
            "text/plain": [
              "Button(button_style='success', description='Generate Password', icon='check', style=ButtonStyle(), tooltip='Cl…"
            ],
            "application/vnd.jupyter.widget-view+json": {
              "version_major": 2,
              "version_minor": 0,
              "model_id": "f11c8ee498fe4be0ae1cc843779e5936"
            }
          },
          "metadata": {}
        },
        {
          "output_type": "display_data",
          "data": {
            "text/plain": [
              "Output()"
            ],
            "application/vnd.jupyter.widget-view+json": {
              "version_major": 2,
              "version_minor": 0,
              "model_id": "701baaab75874d4b9e67e68f3011a98a"
            }
          },
          "metadata": {}
        }
      ],
      "execution_count": 1,
      "metadata": {
        "colab": {
          "base_uri": "https://localhost:8080/",
          "height": 111,
          "referenced_widgets": [
            "f96e48c344434d999aabbe8f52b82b3f",
            "1f558a8fa0b24d99968fb11ef24871ce",
            "391587f5d11b4b7fbea55209edc0b10d",
            "ac5de5898a8844018b7295e94cce34e8",
            "4e2919ce67d64ef69395669bf3142f03",
            "c84eb237cc0a4d94a2ff8f28ee7d52a6",
            "f11c8ee498fe4be0ae1cc843779e5936",
            "557311c84dc34cd9b3d5c84b14a9569b",
            "99eabfedcb994fa99c2426ce7b25fa32",
            "701baaab75874d4b9e67e68f3011a98a",
            "f5b28a11b7244a3eb67f1aa80d4a44a8"
          ]
        },
        "id": "t50Z5Awry4OI",
        "outputId": "5f71c7e7-0caf-455a-9c1c-d3dc0d669188"
      }
    },
    {
      "cell_type": "markdown",
      "source": [],
      "metadata": {
        "id": "VSuoqoZeZVAu"
      }
    }
  ],
  "metadata": {
    "colab": {
      "provenance": [],
      "include_colab_link": true
    },
    "kernelspec": {
      "display_name": "Python 3",
      "name": "python3"
    },
    "widgets": {
      "application/vnd.jupyter.widget-state+json": {
        "f96e48c344434d999aabbe8f52b82b3f": {
          "model_module": "@jupyter-widgets/controls",
          "model_name": "IntSliderModel",
          "model_module_version": "1.5.0",
          "state": {
            "_dom_classes": [],
            "_model_module": "@jupyter-widgets/controls",
            "_model_module_version": "1.5.0",
            "_model_name": "IntSliderModel",
            "_view_count": null,
            "_view_module": "@jupyter-widgets/controls",
            "_view_module_version": "1.5.0",
            "_view_name": "IntSliderView",
            "continuous_update": false,
            "description": "Password Length:",
            "description_tooltip": null,
            "disabled": false,
            "layout": "IPY_MODEL_1f558a8fa0b24d99968fb11ef24871ce",
            "max": 64,
            "min": 6,
            "orientation": "horizontal",
            "readout": true,
            "readout_format": "d",
            "step": 1,
            "style": "IPY_MODEL_391587f5d11b4b7fbea55209edc0b10d",
            "value": 12
          }
        },
        "1f558a8fa0b24d99968fb11ef24871ce": {
          "model_module": "@jupyter-widgets/base",
          "model_name": "LayoutModel",
          "model_module_version": "1.2.0",
          "state": {
            "_model_module": "@jupyter-widgets/base",
            "_model_module_version": "1.2.0",
            "_model_name": "LayoutModel",
            "_view_count": null,
            "_view_module": "@jupyter-widgets/base",
            "_view_module_version": "1.2.0",
            "_view_name": "LayoutView",
            "align_content": null,
            "align_items": null,
            "align_self": null,
            "border": null,
            "bottom": null,
            "display": null,
            "flex": null,
            "flex_flow": null,
            "grid_area": null,
            "grid_auto_columns": null,
            "grid_auto_flow": null,
            "grid_auto_rows": null,
            "grid_column": null,
            "grid_gap": null,
            "grid_row": null,
            "grid_template_areas": null,
            "grid_template_columns": null,
            "grid_template_rows": null,
            "height": null,
            "justify_content": null,
            "justify_items": null,
            "left": null,
            "margin": null,
            "max_height": null,
            "max_width": null,
            "min_height": null,
            "min_width": null,
            "object_fit": null,
            "object_position": null,
            "order": null,
            "overflow": null,
            "overflow_x": null,
            "overflow_y": null,
            "padding": null,
            "right": null,
            "top": null,
            "visibility": null,
            "width": null
          }
        },
        "391587f5d11b4b7fbea55209edc0b10d": {
          "model_module": "@jupyter-widgets/controls",
          "model_name": "SliderStyleModel",
          "model_module_version": "1.5.0",
          "state": {
            "_model_module": "@jupyter-widgets/controls",
            "_model_module_version": "1.5.0",
            "_model_name": "SliderStyleModel",
            "_view_count": null,
            "_view_module": "@jupyter-widgets/base",
            "_view_module_version": "1.2.0",
            "_view_name": "StyleView",
            "description_width": "",
            "handle_color": null
          }
        },
        "ac5de5898a8844018b7295e94cce34e8": {
          "model_module": "@jupyter-widgets/controls",
          "model_name": "TextModel",
          "model_module_version": "1.5.0",
          "state": {
            "_dom_classes": [],
            "_model_module": "@jupyter-widgets/controls",
            "_model_module_version": "1.5.0",
            "_model_name": "TextModel",
            "_view_count": null,
            "_view_module": "@jupyter-widgets/controls",
            "_view_module_version": "1.5.0",
            "_view_name": "TextView",
            "continuous_update": true,
            "description": "Password:",
            "description_tooltip": null,
            "disabled": true,
            "layout": "IPY_MODEL_4e2919ce67d64ef69395669bf3142f03",
            "placeholder": "Generated Password",
            "style": "IPY_MODEL_c84eb237cc0a4d94a2ff8f28ee7d52a6",
            "value": "xm:2GCG&4s'["
          }
        },
        "4e2919ce67d64ef69395669bf3142f03": {
          "model_module": "@jupyter-widgets/base",
          "model_name": "LayoutModel",
          "model_module_version": "1.2.0",
          "state": {
            "_model_module": "@jupyter-widgets/base",
            "_model_module_version": "1.2.0",
            "_model_name": "LayoutModel",
            "_view_count": null,
            "_view_module": "@jupyter-widgets/base",
            "_view_module_version": "1.2.0",
            "_view_name": "LayoutView",
            "align_content": null,
            "align_items": null,
            "align_self": null,
            "border": null,
            "bottom": null,
            "display": null,
            "flex": null,
            "flex_flow": null,
            "grid_area": null,
            "grid_auto_columns": null,
            "grid_auto_flow": null,
            "grid_auto_rows": null,
            "grid_column": null,
            "grid_gap": null,
            "grid_row": null,
            "grid_template_areas": null,
            "grid_template_columns": null,
            "grid_template_rows": null,
            "height": null,
            "justify_content": null,
            "justify_items": null,
            "left": null,
            "margin": null,
            "max_height": null,
            "max_width": null,
            "min_height": null,
            "min_width": null,
            "object_fit": null,
            "object_position": null,
            "order": null,
            "overflow": null,
            "overflow_x": null,
            "overflow_y": null,
            "padding": null,
            "right": null,
            "top": null,
            "visibility": null,
            "width": null
          }
        },
        "c84eb237cc0a4d94a2ff8f28ee7d52a6": {
          "model_module": "@jupyter-widgets/controls",
          "model_name": "DescriptionStyleModel",
          "model_module_version": "1.5.0",
          "state": {
            "_model_module": "@jupyter-widgets/controls",
            "_model_module_version": "1.5.0",
            "_model_name": "DescriptionStyleModel",
            "_view_count": null,
            "_view_module": "@jupyter-widgets/base",
            "_view_module_version": "1.2.0",
            "_view_name": "StyleView",
            "description_width": ""
          }
        },
        "f11c8ee498fe4be0ae1cc843779e5936": {
          "model_module": "@jupyter-widgets/controls",
          "model_name": "ButtonModel",
          "model_module_version": "1.5.0",
          "state": {
            "_dom_classes": [],
            "_model_module": "@jupyter-widgets/controls",
            "_model_module_version": "1.5.0",
            "_model_name": "ButtonModel",
            "_view_count": null,
            "_view_module": "@jupyter-widgets/controls",
            "_view_module_version": "1.5.0",
            "_view_name": "ButtonView",
            "button_style": "success",
            "description": "Generate Password",
            "disabled": false,
            "icon": "check",
            "layout": "IPY_MODEL_557311c84dc34cd9b3d5c84b14a9569b",
            "style": "IPY_MODEL_99eabfedcb994fa99c2426ce7b25fa32",
            "tooltip": "Click to generate a new password"
          }
        },
        "557311c84dc34cd9b3d5c84b14a9569b": {
          "model_module": "@jupyter-widgets/base",
          "model_name": "LayoutModel",
          "model_module_version": "1.2.0",
          "state": {
            "_model_module": "@jupyter-widgets/base",
            "_model_module_version": "1.2.0",
            "_model_name": "LayoutModel",
            "_view_count": null,
            "_view_module": "@jupyter-widgets/base",
            "_view_module_version": "1.2.0",
            "_view_name": "LayoutView",
            "align_content": null,
            "align_items": null,
            "align_self": null,
            "border": null,
            "bottom": null,
            "display": null,
            "flex": null,
            "flex_flow": null,
            "grid_area": null,
            "grid_auto_columns": null,
            "grid_auto_flow": null,
            "grid_auto_rows": null,
            "grid_column": null,
            "grid_gap": null,
            "grid_row": null,
            "grid_template_areas": null,
            "grid_template_columns": null,
            "grid_template_rows": null,
            "height": null,
            "justify_content": null,
            "justify_items": null,
            "left": null,
            "margin": null,
            "max_height": null,
            "max_width": null,
            "min_height": null,
            "min_width": null,
            "object_fit": null,
            "object_position": null,
            "order": null,
            "overflow": null,
            "overflow_x": null,
            "overflow_y": null,
            "padding": null,
            "right": null,
            "top": null,
            "visibility": null,
            "width": null
          }
        },
        "99eabfedcb994fa99c2426ce7b25fa32": {
          "model_module": "@jupyter-widgets/controls",
          "model_name": "ButtonStyleModel",
          "model_module_version": "1.5.0",
          "state": {
            "_model_module": "@jupyter-widgets/controls",
            "_model_module_version": "1.5.0",
            "_model_name": "ButtonStyleModel",
            "_view_count": null,
            "_view_module": "@jupyter-widgets/base",
            "_view_module_version": "1.2.0",
            "_view_name": "StyleView",
            "button_color": null,
            "font_weight": ""
          }
        },
        "701baaab75874d4b9e67e68f3011a98a": {
          "model_module": "@jupyter-widgets/output",
          "model_name": "OutputModel",
          "model_module_version": "1.0.0",
          "state": {
            "_dom_classes": [],
            "_model_module": "@jupyter-widgets/output",
            "_model_module_version": "1.0.0",
            "_model_name": "OutputModel",
            "_view_count": null,
            "_view_module": "@jupyter-widgets/output",
            "_view_module_version": "1.0.0",
            "_view_name": "OutputView",
            "layout": "IPY_MODEL_f5b28a11b7244a3eb67f1aa80d4a44a8",
            "msg_id": "",
            "outputs": []
          }
        },
        "f5b28a11b7244a3eb67f1aa80d4a44a8": {
          "model_module": "@jupyter-widgets/base",
          "model_name": "LayoutModel",
          "model_module_version": "1.2.0",
          "state": {
            "_model_module": "@jupyter-widgets/base",
            "_model_module_version": "1.2.0",
            "_model_name": "LayoutModel",
            "_view_count": null,
            "_view_module": "@jupyter-widgets/base",
            "_view_module_version": "1.2.0",
            "_view_name": "LayoutView",
            "align_content": null,
            "align_items": null,
            "align_self": null,
            "border": null,
            "bottom": null,
            "display": null,
            "flex": null,
            "flex_flow": null,
            "grid_area": null,
            "grid_auto_columns": null,
            "grid_auto_flow": null,
            "grid_auto_rows": null,
            "grid_column": null,
            "grid_gap": null,
            "grid_row": null,
            "grid_template_areas": null,
            "grid_template_columns": null,
            "grid_template_rows": null,
            "height": null,
            "justify_content": null,
            "justify_items": null,
            "left": null,
            "margin": null,
            "max_height": null,
            "max_width": null,
            "min_height": null,
            "min_width": null,
            "object_fit": null,
            "object_position": null,
            "order": null,
            "overflow": null,
            "overflow_x": null,
            "overflow_y": null,
            "padding": null,
            "right": null,
            "top": null,
            "visibility": null,
            "width": null
          }
        }
      }
    }
  },
  "nbformat": 4,
  "nbformat_minor": 0
}